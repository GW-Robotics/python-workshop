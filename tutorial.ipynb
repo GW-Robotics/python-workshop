{
 "metadata": {
  "language_info": {
   "codemirror_mode": {
    "name": "ipython",
    "version": 3
   },
   "file_extension": ".py",
   "mimetype": "text/x-python",
   "name": "python",
   "nbconvert_exporter": "python",
   "pygments_lexer": "ipython3",
   "version": "3.7.8-final"
  },
  "orig_nbformat": 2,
  "kernelspec": {
   "name": "python3",
   "display_name": "Python 3.7.8 64-bit",
   "metadata": {
    "interpreter": {
     "hash": "729cbf818ad1993902a7b21055112e77c036d0ee331112cc72d8282a6dca9fba"
    }
   }
  }
 },
 "nbformat": 4,
 "nbformat_minor": 2,
 "cells": [
  {
   "source": [
    "# Python Workshop II Notebook\n",
    "\n",
    "This notebook will go through some useful libraries you can use in your Python projects"
   ],
   "cell_type": "markdown",
   "metadata": {}
  },
  {
   "cell_type": "code",
   "execution_count": null,
   "metadata": {},
   "outputs": [],
   "source": [
    "!wget -nc https://raw.githubusercontent.com/GW-Robotics/python-workshop/main/bard.txt\n",
    "!wget -nc https://raw.githubusercontent.com/GW-Robotics/python-workshop/main/exoplanets.csv"
   ]
  },
  {
   "source": [
    "## 1. Built-in\n",
    "\n",
    "Stuff that comes with Python by default, ready to go without doing anything fancy"
   ],
   "cell_type": "markdown",
   "metadata": {}
  },
  {
   "cell_type": "code",
   "execution_count": null,
   "metadata": {},
   "outputs": [],
   "source": [
    "# Create list\n",
    "favorite_numbers = [2, 3, 81, 64, 24, 42, 71, 77, 111, 56]\n",
    "\n",
    "# Use functions on it\n",
    "largest = max(favorite_numbers)\n",
    "smallest = min(favorite_numbers)\n",
    "summation = sum(favorite_numbers)\n",
    "sorted_numbers = sorted(favorite_numbers)\n",
    "\n",
    "# Print out data\n",
    "print(\"Maximum: \", largest)\n",
    "print(\"Minimum: \", smallest)\n",
    "print(\"Sum: \", summation)\n",
    "print(\"Sorted list: \", sorted_numbers)\n",
    "print(\"Original list: \", favorite_numbers)"
   ]
  },
  {
   "source": [
    "### 1.1 File-Reading\n",
    "\n",
    "Python has built-in file-reading functions! The following sections of code do the SAME thing:"
   ],
   "cell_type": "markdown",
   "metadata": {}
  },
  {
   "cell_type": "code",
   "execution_count": null,
   "metadata": {},
   "outputs": [],
   "source": [
    "infile = open(\"bard.txt\", \"r\")\n",
    "text = infile.readlines()\n",
    "infile.close()"
   ]
  },
  {
   "cell_type": "code",
   "execution_count": null,
   "metadata": {},
   "outputs": [],
   "source": [
    "with open(\"bard.txt\", \"r\") as infile:\n",
    "    text = infile.readlines()"
   ]
  },
  {
   "cell_type": "code",
   "execution_count": null,
   "metadata": {},
   "outputs": [],
   "source": [
    "print(\"Line 3 is: \", text[2])"
   ]
  },
  {
   "source": [
    "### 1.2 File-Writing\n",
    "\n",
    "Similar to reading, Python can also write files"
   ],
   "cell_type": "markdown",
   "metadata": {}
  },
  {
   "cell_type": "code",
   "execution_count": null,
   "metadata": {},
   "outputs": [],
   "source": [
    "months = [\"January\", \"February\", \"March\", \"April\", \"May\", \"June\", \"July\", \"August\", \"September\", \"October\", \"November\", \"December\"]\n",
    "months_newlines = [\"January\\n\", \"February\\n\", \"March\\n\", \"April\\n\", \"May\\n\", \"June\\n\", \"July\\n\", \"August\\n\", \"September\\n\", \"October\\n\", \"November\\n\", \"December\\n\"]\n",
    "\n",
    "with open(\"months.txt\", \"w\") as outfile:\n",
    "    outfile.writelines(months_newlines)"
   ]
  },
  {
   "source": [
    "## 2. Internal Libraries\n",
    "\n",
    "You don't need to install these, but you do need to `import` them"
   ],
   "cell_type": "markdown",
   "metadata": {}
  },
  {
   "cell_type": "code",
   "execution_count": null,
   "metadata": {},
   "outputs": [],
   "source": [
    "import random\n",
    "from statistics import mean\n",
    "\n",
    "favorite_numbers = [2, 3, 81, 64, 24, 42, 71, 77, 111, 56]\n",
    "\n",
    "random_choice = random.choice(favorite_numbers)\n",
    "avg_number = mean(favorite_numbers)\n",
    "\n",
    "print(\"Random choice:\", random_choice)\n",
    "print(\"Average favorite number:\", avg_number)\n",
    "\n",
    "# In-place shuffling\n",
    "print(\"List before shuffling:\", favorite_numbers)\n",
    "random.shuffle(favorite_numbers)\n",
    "print(\"List after shuffling:\", favorite_numbers)"
   ]
  },
  {
   "source": [
    "## 3. External Libraries\n",
    "\n",
    "There are a ton of other libraries you can install (using `pip install X`) to do just about anything. This tutorial, we'll be showing off `pandas` and `matplotlib`, which are focused on data manipulation."
   ],
   "cell_type": "markdown",
   "metadata": {}
  },
  {
   "cell_type": "code",
   "execution_count": null,
   "metadata": {},
   "outputs": [],
   "source": [
    "import pandas as pd\n",
    "\n",
    "planet_spreadsheet = pd.read_csv(\"exoplanets.csv\")\n",
    "planet_spreadsheet.head()"
   ]
  },
  {
   "cell_type": "code",
   "execution_count": null,
   "metadata": {},
   "outputs": [],
   "source": [
    "import matplotlib.pyplot as plt\n",
    "\n",
    "plt.scatter(planet_spreadsheet[\"HostStarMassSlrMass\"], planet_spreadsheet[\"HostStarRadiusSlrRad\"])\n",
    "plt.xlabel(\"Star Mass\")\n",
    "plt.ylabel(\"Star Radius\")\n",
    "plt.title(\"Star Mass vs. Radius\")\n",
    "plt.show()"
   ]
  },
  {
   "cell_type": "code",
   "execution_count": null,
   "metadata": {},
   "outputs": [],
   "source": []
  }
 ]
}